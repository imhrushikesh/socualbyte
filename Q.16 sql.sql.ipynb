{
 "cells": [
  {
   "cell_type": "code",
   "execution_count": null,
   "id": "7f07f2f4",
   "metadata": {},
   "outputs": [],
   "source": [
    "SELECT company,\n",
    "       CASE\n",
    "           WHEN COUNT(*) % 2 = 0 THEN\n",
    "               (SELECT AVG(salary)\n",
    "                FROM employees e2\n",
    "                WHERE e1.company = e2.company\n",
    "                ORDER BY salary\n",
    "                LIMIT 1 OFFSET (COUNT(*) - 1) / 2) -- Lower middle element\n",
    "               +\n",
    "               (SELECT AVG(salary)\n",
    "                FROM employees e2\n",
    "                WHERE e1.company = e2.company\n",
    "                ORDER BY salary\n",
    "                LIMIT 1 OFFSET COUNT(*) / 2) -- Upper middle element\n",
    "           ELSE\n",
    "               (SELECT AVG(salary)\n",
    "                FROM employees e2\n",
    "                WHERE e1.company = e2.company\n",
    "                ORDER BY salary\n",
    "                LIMIT 1 OFFSET COUNT(*) / 2) -- Middle element\n",
    "       END AS median_salary\n",
    "FROM employees e1\n",
    "GROUP BY company;"
   ]
  }
 ],
 "metadata": {
  "kernelspec": {
   "display_name": "Python 3 (ipykernel)",
   "language": "python",
   "name": "python3"
  },
  "language_info": {
   "codemirror_mode": {
    "name": "ipython",
    "version": 3
   },
   "file_extension": ".py",
   "mimetype": "text/x-python",
   "name": "python",
   "nbconvert_exporter": "python",
   "pygments_lexer": "ipython3",
   "version": "3.9.7"
  }
 },
 "nbformat": 4,
 "nbformat_minor": 5
}
