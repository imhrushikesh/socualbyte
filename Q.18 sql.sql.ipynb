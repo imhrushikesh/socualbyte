{
 "cells": [
  {
   "cell_type": "code",
   "execution_count": null,
   "id": "27d889f8",
   "metadata": {},
   "outputs": [],
   "source": [
    "SELECT\n",
    "    point1.x AS x1,\n",
    "    point1.y AS y1,\n",
    "    point2.x AS x2,\n",
    "    point2.y AS y2,\n",
    "    SQRT(POW(point2.x - point1.x, 2) + POW(point2.y - point1.y, 2)) AS distance\n",
    "FROM\n",
    "    points point1\n",
    "CROSS JOIN\n",
    "    points point2\n",
    "WHERE\n",
    "    point1.id <> point2.id\n",
    "ORDER BY\n",
    "    distance ASC\n",
    "LIMIT 1;\n"
   ]
  }
 ],
 "metadata": {
  "kernelspec": {
   "display_name": "Python 3 (ipykernel)",
   "language": "python",
   "name": "python3"
  },
  "language_info": {
   "codemirror_mode": {
    "name": "ipython",
    "version": 3
   },
   "file_extension": ".py",
   "mimetype": "text/x-python",
   "name": "python",
   "nbconvert_exporter": "python",
   "pygments_lexer": "ipython3",
   "version": "3.9.7"
  }
 },
 "nbformat": 4,
 "nbformat_minor": 5
}
