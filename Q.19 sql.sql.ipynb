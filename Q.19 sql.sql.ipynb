{
 "cells": [
  {
   "cell_type": "code",
   "execution_count": null,
   "id": "f06c5af7",
   "metadata": {},
   "outputs": [],
   "source": [
    "SELECT\n",
    "    c.customer_name,\n",
    "    COUNT(o.order_id) AS order_count\n",
    "FROM\n",
    "    Customers c\n",
    "JOIN\n",
    "    Orders o ON c.customer_id = o.customer_id\n",
    "GROUP BY\n",
    "    c.customer_name\n",
    "ORDER BY\n",
    "    order_count DESC,\n",
    "    c.customer_name ASC\n",
    "LIMIT 5;\n"
   ]
  }
 ],
 "metadata": {
  "kernelspec": {
   "display_name": "Python 3 (ipykernel)",
   "language": "python",
   "name": "python3"
  },
  "language_info": {
   "codemirror_mode": {
    "name": "ipython",
    "version": 3
   },
   "file_extension": ".py",
   "mimetype": "text/x-python",
   "name": "python",
   "nbconvert_exporter": "python",
   "pygments_lexer": "ipython3",
   "version": "3.9.7"
  }
 },
 "nbformat": 4,
 "nbformat_minor": 5
}
