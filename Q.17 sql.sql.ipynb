{
 "cells": [
  {
   "cell_type": "code",
   "execution_count": null,
   "id": "7770be78",
   "metadata": {},
   "outputs": [],
   "source": [
    "SELECT\n",
    "    e.id,\n",
    "    t.month,\n",
    "    SUM(e.salary) OVER (PARTITION BY e.id ORDER BY t.month DESC ROWS BETWEEN 2 PRECEDING AND 1 PRECEDING) AS cumulative_sum\n",
    "FROM\n",
    "    employees e\n",
    "JOIN (\n",
    "    SELECT DISTINCT\n",
    "        id,\n",
    "        DATE_TRUNC('month', timestamp_column) AS month\n",
    "    FROM\n",
    "        your_table_name\n",
    "    WHERE\n",
    "        timestamp_column < DATE_TRUNC('month', CURRENT_DATE)\n",
    ") t\n",
    "    ON e.id = t.id\n",
    "ORDER BY\n",
    "    e.id ASC,\n",
    "    t.month DESC;\n"
   ]
  }
 ],
 "metadata": {
  "kernelspec": {
   "display_name": "Python 3 (ipykernel)",
   "language": "python",
   "name": "python3"
  },
  "language_info": {
   "codemirror_mode": {
    "name": "ipython",
    "version": 3
   },
   "file_extension": ".py",
   "mimetype": "text/x-python",
   "name": "python",
   "nbconvert_exporter": "python",
   "pygments_lexer": "ipython3",
   "version": "3.9.7"
  }
 },
 "nbformat": 4,
 "nbformat_minor": 5
}
