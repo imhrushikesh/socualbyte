{
 "cells": [
  {
   "cell_type": "code",
   "execution_count": null,
   "id": "05428655",
   "metadata": {},
   "outputs": [],
   "source": [
    " create database socialbyte;\n",
    "use socialbyte;\n",
    "\n",
    "CREATE TABLE `Student Table` ( `ID` VARCHAR(20) NOT NULL PRIMARY KEY ,`Name` VARCHAR(20),  \n",
    "`Age` INT NOT NULL ,`Address` VARCHAR(25) NOT NULL);\n",
    "\n",
    "insert into `Student Table` values\n",
    "('1','ankita','28','pune'),\n",
    "('2','Anvi','64','mumbai'),\n",
    "('3','chetan','56','pune'),\n",
    "('4','kum','34','xyz'),\n",
    "('6','gungun','50','prq');  \n",
    "\n",
    "select max(age) from `Student Table`;"
   ]
  }
 ],
 "metadata": {
  "kernelspec": {
   "display_name": "Python 3 (ipykernel)",
   "language": "python",
   "name": "python3"
  },
  "language_info": {
   "codemirror_mode": {
    "name": "ipython",
    "version": 3
   },
   "file_extension": ".py",
   "mimetype": "text/x-python",
   "name": "python",
   "nbconvert_exporter": "python",
   "pygments_lexer": "ipython3",
   "version": "3.9.7"
  }
 },
 "nbformat": 4,
 "nbformat_minor": 5
}
