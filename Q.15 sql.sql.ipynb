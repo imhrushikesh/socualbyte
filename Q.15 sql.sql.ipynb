{
 "cells": [
  {
   "cell_type": "code",
   "execution_count": null,
   "id": "05c859d1",
   "metadata": {},
   "outputs": [],
   "source": [
    "SELECT DISTINCT salary\n",
    "FROM Employee\n",
    "ORDER BY salary DESC\n",
    "LIMIT 1 OFFSET n - 1;\n"
   ]
  },
  {
   "cell_type": "code",
   "execution_count": null,
   "id": "1fdd67a8",
   "metadata": {},
   "outputs": [],
   "source": [
    "SELECT DISTINCT salary\n",
    "FROM Employee\n",
    "ORDER BY salary DESC\n",
    "LIMIT 1 OFFSET 2;"
   ]
  }
 ],
 "metadata": {
  "kernelspec": {
   "display_name": "Python 3 (ipykernel)",
   "language": "python",
   "name": "python3"
  },
  "language_info": {
   "codemirror_mode": {
    "name": "ipython",
    "version": 3
   },
   "file_extension": ".py",
   "mimetype": "text/x-python",
   "name": "python",
   "nbconvert_exporter": "python",
   "pygments_lexer": "ipython3",
   "version": "3.9.7"
  }
 },
 "nbformat": 4,
 "nbformat_minor": 5
}
